{
  "nbformat": 4,
  "nbformat_minor": 0,
  "metadata": {
    "colab": {
      "provenance": []
    },
    "kernelspec": {
      "name": "python3",
      "display_name": "Python 3"
    },
    "language_info": {
      "name": "python"
    }
  },
  "cells": [
    {
      "cell_type": "code",
      "execution_count": null,
      "metadata": {
        "id": "LxIVmtjV40FR"
      },
      "outputs": [],
      "source": [
        "import pandas as pd\n",
        "from scipy.stats import chi2_contingency"
      ]
    },
    {
      "cell_type": "code",
      "source": [
        "# Load your dataset\n",
        "file_path = '/content/scenario1.csv'\n",
        "data = pd.read_csv(file_path)"
      ],
      "metadata": {
        "id": "TRy-2-UoZ98A"
      },
      "execution_count": null,
      "outputs": []
    },
    {
      "cell_type": "code",
      "source": [
        "# Define the mapping based on the label\n",
        "def map_response(row):\n",
        "    if 'A' in row['ID']:\n",
        "        if row['AnswerText'] == \"I went first\":\n",
        "            return \"The car went first\"\n",
        "        elif row['AnswerText'] == \"The pedestrian went first\":\n",
        "            return \"The pedestrian went first\"\n",
        "\n",
        "        else:\n",
        "            return row['AnswerText']  # Keep the same for other responses\n",
        "\n",
        "    elif 'B' in row['ID']:\n",
        "        if row['AnswerText'] == \"I went first\":\n",
        "            return \"The pedestrian went first\"\n",
        "        elif row['AnswerText'] == \"The car went first\":\n",
        "            return \"The car went first\"\n",
        "        else:\n",
        "            return row['AnswerText']  # Keep the same for other responses\n",
        "\n",
        "# Apply the mapping to the 'AnswerText'\n",
        "data['MappedCategory'] = data.apply(map_response, axis=1)\n"
      ],
      "metadata": {
        "id": "dwVXVk703QV4"
      },
      "execution_count": null,
      "outputs": []
    },
    {
      "cell_type": "code",
      "source": [
        "# Filter data for question \"x12\"\n",
        "question_117_dataA = data[data['ID'].str.contains('A-117')]\n",
        "print(question_117_dataA)\n",
        "\n",
        "# Filter data for question \"x12\"\n",
        "question_117_dataB = data[data['ID'].str.contains('B-117')]\n",
        "print(question_117_dataB)"
      ],
      "metadata": {
        "colab": {
          "base_uri": "https://localhost:8080/"
        },
        "id": "ifC_rZOiKreB",
        "outputId": "e6b81d90-8bc1-45cd-a77c-3f946ff2383a"
      },
      "execution_count": null,
      "outputs": [
        {
          "output_type": "stream",
          "name": "stdout",
          "text": [
            "         ID                 AnswerText             MappedCategory\n",
            "32    A-117               I went first         The car went first\n",
            "105   A-117               I went first         The car went first\n",
            "154   A-117               I went first         The car went first\n",
            "247   A-117               I went first         The car went first\n",
            "282   A-117               I went first         The car went first\n",
            "...     ...                        ...                        ...\n",
            "4608  A-117             Does not apply             Does not apply\n",
            "4655  A-117             Does not apply             Does not apply\n",
            "4697  A-117  The pedestrian went first  The pedestrian went first\n",
            "4817  A-117               I went first         The car went first\n",
            "4904  A-117  The pedestrian went first  The pedestrian went first\n",
            "\n",
            "[66 rows x 3 columns]\n",
            "         ID          AnswerText             MappedCategory\n",
            "33    B-117  The car went first         The car went first\n",
            "121   B-117      Does not apply             Does not apply\n",
            "163   B-117  The car went first         The car went first\n",
            "239   B-117  The car went first         The car went first\n",
            "288   B-117      Does not apply             Does not apply\n",
            "...     ...                 ...                        ...\n",
            "4617  B-117      Does not apply             Does not apply\n",
            "4654  B-117        I went first  The pedestrian went first\n",
            "4695  B-117        I went first  The pedestrian went first\n",
            "4827  B-117  The car went first         The car went first\n",
            "4910  B-117        I went first  The pedestrian went first\n",
            "\n",
            "[65 rows x 3 columns]\n"
          ]
        }
      ]
    },
    {
      "cell_type": "code",
      "source": [
        "# Separate the data into 'A' (driver) and 'B' (pedestrian) responses\n",
        "driver_data = question_117_dataA[question_117_dataA['ID'].str.contains('A-117')]\n",
        "pedestrian_data = question_117_dataB[question_117_dataB['ID'].str.contains('B-117')]\n",
        "print(driver_data)\n",
        "print(pedestrian_data)"
      ],
      "metadata": {
        "colab": {
          "base_uri": "https://localhost:8080/"
        },
        "id": "18W7oH-WInPS",
        "outputId": "67877a71-742a-40b0-b30e-6e34d0bda934"
      },
      "execution_count": null,
      "outputs": [
        {
          "output_type": "stream",
          "name": "stdout",
          "text": [
            "         ID                 AnswerText             MappedCategory\n",
            "32    A-117               I went first         The car went first\n",
            "105   A-117               I went first         The car went first\n",
            "154   A-117               I went first         The car went first\n",
            "247   A-117               I went first         The car went first\n",
            "282   A-117               I went first         The car went first\n",
            "...     ...                        ...                        ...\n",
            "4608  A-117             Does not apply             Does not apply\n",
            "4655  A-117             Does not apply             Does not apply\n",
            "4697  A-117  The pedestrian went first  The pedestrian went first\n",
            "4817  A-117               I went first         The car went first\n",
            "4904  A-117  The pedestrian went first  The pedestrian went first\n",
            "\n",
            "[66 rows x 3 columns]\n",
            "         ID          AnswerText             MappedCategory\n",
            "33    B-117  The car went first         The car went first\n",
            "121   B-117      Does not apply             Does not apply\n",
            "163   B-117  The car went first         The car went first\n",
            "239   B-117  The car went first         The car went first\n",
            "288   B-117      Does not apply             Does not apply\n",
            "...     ...                 ...                        ...\n",
            "4617  B-117      Does not apply             Does not apply\n",
            "4654  B-117        I went first  The pedestrian went first\n",
            "4695  B-117        I went first  The pedestrian went first\n",
            "4827  B-117  The car went first         The car went first\n",
            "4910  B-117        I went first  The pedestrian went first\n",
            "\n",
            "[65 rows x 3 columns]\n"
          ]
        }
      ]
    },
    {
      "cell_type": "code",
      "source": [
        "# Create frequency tables for the mapped categories\n",
        "driver_counts = driver_data['MappedCategory'].value_counts()\n",
        "pedestrian_counts = pedestrian_data['MappedCategory'].value_counts()\n",
        "print(driver_counts)\n",
        "print(pedestrian_counts)\n"
      ],
      "metadata": {
        "colab": {
          "base_uri": "https://localhost:8080/"
        },
        "id": "Vx7RTdXtzQfv",
        "outputId": "6c3f5ee9-f8cb-4156-aa36-ff84c3dc6558"
      },
      "execution_count": null,
      "outputs": [
        {
          "output_type": "stream",
          "name": "stdout",
          "text": [
            "MappedCategory\n",
            "The pedestrian went first    32\n",
            "The car went first           20\n",
            "Does not apply               13\n",
            "I'm not sure                  1\n",
            "Name: count, dtype: int64\n",
            "MappedCategory\n",
            "The pedestrian went first    32\n",
            "The car went first           17\n",
            "Does not apply               14\n",
            "I'm not sure                  2\n",
            "Name: count, dtype: int64\n"
          ]
        }
      ]
    },
    {
      "cell_type": "code",
      "source": [
        "# Combine the two tables into a single DataFrame\n",
        "contingency_table = pd.DataFrame({'Driver': driver_counts, 'Pedestrian': pedestrian_counts}).fillna(0)\n",
        "print(contingency_table)"
      ],
      "metadata": {
        "colab": {
          "base_uri": "https://localhost:8080/"
        },
        "id": "XjoOqQ9-0DUn",
        "outputId": "db04b2ff-6ee7-4410-c3a0-0d7be812d06f"
      },
      "execution_count": null,
      "outputs": [
        {
          "output_type": "stream",
          "name": "stdout",
          "text": [
            "                           Driver  Pedestrian\n",
            "MappedCategory                               \n",
            "The pedestrian went first      32          32\n",
            "The car went first             20          17\n",
            "Does not apply                 13          14\n",
            "I'm not sure                    1           2\n"
          ]
        }
      ]
    },
    {
      "cell_type": "code",
      "source": [
        "# Perform the chi-square test\n",
        "chi2, p, dof, expected = chi2_contingency(contingency_table)\n",
        "\n",
        "# Output the results\n",
        "print(\"Contingency Table:\\n\", contingency_table)\n",
        "print(\"\\nChi-square statistic:\", chi2)\n",
        "print(\"p-value:\", p)\n",
        "print(\"Degrees of freedom:\", dof)\n",
        "print(\"Expected frequencies:\\n\", expected)"
      ],
      "metadata": {
        "colab": {
          "base_uri": "https://localhost:8080/"
        },
        "id": "6hEByip80ILR",
        "outputId": "e8bd72df-ee50-4045-d704-5e617bda5fd1"
      },
      "execution_count": null,
      "outputs": [
        {
          "output_type": "stream",
          "name": "stdout",
          "text": [
            "Contingency Table:\n",
            "                            Driver  Pedestrian\n",
            "MappedCategory                               \n",
            "The pedestrian went first      32          32\n",
            "The car went first             20          17\n",
            "Does not apply                 13          14\n",
            "I'm not sure                    1           2\n",
            "\n",
            "Chi-square statistic: 0.6060153393486726\n",
            "p-value: 0.895053928682053\n",
            "Degrees of freedom: 3\n",
            "Expected frequencies:\n",
            " [[32.24427481 31.75572519]\n",
            " [18.64122137 18.35877863]\n",
            " [13.60305344 13.39694656]\n",
            " [ 1.51145038  1.48854962]]\n"
          ]
        }
      ]
    }
  ]
}