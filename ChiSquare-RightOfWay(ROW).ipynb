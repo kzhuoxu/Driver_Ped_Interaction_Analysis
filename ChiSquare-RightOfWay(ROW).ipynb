{
  "nbformat": 4,
  "nbformat_minor": 0,
  "metadata": {
    "colab": {
      "provenance": []
    },
    "kernelspec": {
      "name": "python3",
      "display_name": "Python 3"
    },
    "language_info": {
      "name": "python"
    }
  },
  "cells": [
    {
      "cell_type": "code",
      "execution_count": null,
      "metadata": {
        "id": "LxIVmtjV40FR"
      },
      "outputs": [],
      "source": [
        "import pandas as pd\n",
        "from scipy.stats import chi2_contingency"
      ]
    },
    {
      "cell_type": "code",
      "source": [
        "# Load your dataset\n",
        "file_path = '/content/scenario#3.csv'\n",
        "data = pd.read_csv(file_path)"
      ],
      "metadata": {
        "id": "TRy-2-UoZ98A"
      },
      "execution_count": null,
      "outputs": []
    },
    {
      "cell_type": "code",
      "source": [
        "# Define the mapping based on the label\n",
        "def map_response(row):\n",
        "    if 'A' in row['ID']:\n",
        "        if row['AnswerText'] == \"Me\":\n",
        "            return \"The car\"\n",
        "        elif row['AnswerText'] == \"The pedestrian\":\n",
        "            return \"The pedestrian\"\n",
        "\n",
        "        else:\n",
        "            return row['AnswerText']  # Keep the same for other responses\n",
        "\n",
        "    elif 'B' in row['ID']:\n",
        "        if row['AnswerText'] == \"The driver\":\n",
        "            return \"The car\"\n",
        "        elif row['AnswerText'] == \"Me\":\n",
        "            return \"The pedestrian\"\n",
        "        else:\n",
        "            return row['AnswerText']  # Keep the same for other responses\n",
        "\n",
        "# Apply the mapping to the 'AnswerText'\n",
        "data['MappedCategory'] = data.apply(map_response, axis=1)"
      ],
      "metadata": {
        "id": "dwVXVk703QV4"
      },
      "execution_count": null,
      "outputs": []
    },
    {
      "cell_type": "code",
      "source": [
        "# Filter data for question \"x12\"\n",
        "question_112_dataA = data[data['ID'].str.contains('A-112')]\n",
        "print(question_112_dataA)\n",
        "\n",
        "# Filter data for question \"x12\"\n",
        "question_112_dataB = data[data['ID'].str.contains('B-112')]\n",
        "print(question_112_dataB)"
      ],
      "metadata": {
        "colab": {
          "base_uri": "https://localhost:8080/"
        },
        "id": "xyXZCd7XaGfS",
        "outputId": "5c5ccf46-7000-464a-c87b-324001280496"
      },
      "execution_count": null,
      "outputs": [
        {
          "output_type": "stream",
          "name": "stdout",
          "text": [
            "         ID      AnswerText  MappedCategory\n",
            "19    A-112      Both of us      Both of us\n",
            "54    A-112              Me         The car\n",
            "105   A-112              Me         The car\n",
            "143   A-112              Me         The car\n",
            "186   A-112              Me         The car\n",
            "231   A-112              Me         The car\n",
            "276   A-112  The pedestrian  The pedestrian\n",
            "319   A-112      Both of us      Both of us\n",
            "361   A-112      Both of us      Both of us\n",
            "404   A-112      Both of us      Both of us\n",
            "451   A-112      Both of us      Both of us\n",
            "505   A-112      Both of us      Both of us\n",
            "549   A-112              Me         The car\n",
            "590   A-112      Both of us      Both of us\n",
            "675   A-112      Both of us      Both of us\n",
            "759   A-112  The pedestrian  The pedestrian\n",
            "848   A-112  The pedestrian  The pedestrian\n",
            "934   A-112  The pedestrian  The pedestrian\n",
            "970   A-112      Both of us      Both of us\n",
            "1012  A-112      Both of us      Both of us\n",
            "1094  A-112  The pedestrian  The pedestrian\n",
            "1225  A-112      Both of us      Both of us\n",
            "1265  A-112  The pedestrian  The pedestrian\n",
            "1348  A-112      Both of us      Both of us\n",
            "1428  A-112      Both of us      Both of us\n",
            "1456  A-112              Me         The car\n",
            "1592  A-112              Me         The car\n",
            "1689  A-112      Both of us      Both of us\n",
            "1734  A-112      Both of us      Both of us\n",
            "1776  A-112  The pedestrian  The pedestrian\n",
            "1831  A-112      Both of us      Both of us\n",
            "1876  A-112      Both of us      Both of us\n",
            "1920  A-112      Both of us      Both of us\n",
            "1968  A-112      Both of us      Both of us\n",
            "2014  A-112              Me         The car\n",
            "2064  A-112  The pedestrian  The pedestrian\n",
            "2090  A-112  The pedestrian  The pedestrian\n",
            "         ID     AnswerText  MappedCategory\n",
            "25    B-112     Both of us      Both of us\n",
            "74    B-112     Both of us      Both of us\n",
            "110   B-112   I'm not sure    I'm not sure\n",
            "155   B-112        The car         The car\n",
            "193   B-112             Me  The pedestrian\n",
            "236   B-112             Me  The pedestrian\n",
            "272   B-112        The car         The car\n",
            "321   B-112        The car         The car\n",
            "363   B-112     Both of us      Both of us\n",
            "407   B-112     Both of us      Both of us\n",
            "445   B-112     Both of us      Both of us\n",
            "478   B-112   I'm not sure    I'm not sure\n",
            "520   B-112     Both of us      Both of us\n",
            "554   B-112     Both of us      Both of us\n",
            "600   B-112     Both of us      Both of us\n",
            "682   B-112     Both of us      Both of us\n",
            "766   B-112             Me  The pedestrian\n",
            "844   B-112             Me  The pedestrian\n",
            "927   B-112             Me  The pedestrian\n",
            "975   B-112     Both of us      Both of us\n",
            "1017  B-112     Both of us      Both of us\n",
            "1106  B-112     Both of us      Both of us\n",
            "1233  B-112     Both of us      Both of us\n",
            "1279  B-112             Me  The pedestrian\n",
            "1363  B-112     Both of us      Both of us\n",
            "1466  B-112     Both of us      Both of us\n",
            "1583  B-112     Both of us      Both of us\n",
            "1696  B-112     Both of us      Both of us\n",
            "1742  B-112     Both of us      Both of us\n",
            "1783  B-112             Me  The pedestrian\n",
            "1818  B-112     Both of us      Both of us\n",
            "1854  B-112        The car         The car\n",
            "1896  B-112     Both of us      Both of us\n",
            "1936  B-112     Both of us      Both of us\n",
            "1974  B-112  Neither of us   Neither of us\n",
            "2011  B-112     Both of us      Both of us\n",
            "2049  B-112     Both of us      Both of us\n",
            "2103  B-112             Me  The pedestrian\n"
          ]
        }
      ]
    },
    {
      "cell_type": "code",
      "source": [
        "# Separate the data into 'A' (driver) and 'B' (pedestrian) responses\n",
        "driver_data = question_112_dataA[question_112_dataA['ID'].str.contains('A-112')]\n",
        "pedestrian_data = question_112_dataB[question_112_dataB['ID'].str.contains('B-112')]\n",
        "print(driver_data)\n",
        "print(pedestrian_data)"
      ],
      "metadata": {
        "colab": {
          "base_uri": "https://localhost:8080/"
        },
        "id": "18W7oH-WInPS",
        "outputId": "a005763c-9bf4-4e31-e856-04ddf81a4640"
      },
      "execution_count": null,
      "outputs": [
        {
          "output_type": "stream",
          "name": "stdout",
          "text": [
            "         ID      AnswerText  MappedCategory\n",
            "19    A-112      Both of us      Both of us\n",
            "54    A-112              Me         The car\n",
            "105   A-112              Me         The car\n",
            "143   A-112              Me         The car\n",
            "186   A-112              Me         The car\n",
            "231   A-112              Me         The car\n",
            "276   A-112  The pedestrian  The pedestrian\n",
            "319   A-112      Both of us      Both of us\n",
            "361   A-112      Both of us      Both of us\n",
            "404   A-112      Both of us      Both of us\n",
            "451   A-112      Both of us      Both of us\n",
            "505   A-112      Both of us      Both of us\n",
            "549   A-112              Me         The car\n",
            "590   A-112      Both of us      Both of us\n",
            "675   A-112      Both of us      Both of us\n",
            "759   A-112  The pedestrian  The pedestrian\n",
            "848   A-112  The pedestrian  The pedestrian\n",
            "934   A-112  The pedestrian  The pedestrian\n",
            "970   A-112      Both of us      Both of us\n",
            "1012  A-112      Both of us      Both of us\n",
            "1094  A-112  The pedestrian  The pedestrian\n",
            "1225  A-112      Both of us      Both of us\n",
            "1265  A-112  The pedestrian  The pedestrian\n",
            "1348  A-112      Both of us      Both of us\n",
            "1428  A-112      Both of us      Both of us\n",
            "1456  A-112              Me         The car\n",
            "1592  A-112              Me         The car\n",
            "1689  A-112      Both of us      Both of us\n",
            "1734  A-112      Both of us      Both of us\n",
            "1776  A-112  The pedestrian  The pedestrian\n",
            "1831  A-112      Both of us      Both of us\n",
            "1876  A-112      Both of us      Both of us\n",
            "1920  A-112      Both of us      Both of us\n",
            "1968  A-112      Both of us      Both of us\n",
            "2014  A-112              Me         The car\n",
            "2064  A-112  The pedestrian  The pedestrian\n",
            "2090  A-112  The pedestrian  The pedestrian\n",
            "         ID     AnswerText  MappedCategory\n",
            "25    B-112     Both of us      Both of us\n",
            "74    B-112     Both of us      Both of us\n",
            "110   B-112   I'm not sure    I'm not sure\n",
            "155   B-112        The car         The car\n",
            "193   B-112             Me  The pedestrian\n",
            "236   B-112             Me  The pedestrian\n",
            "272   B-112        The car         The car\n",
            "321   B-112        The car         The car\n",
            "363   B-112     Both of us      Both of us\n",
            "407   B-112     Both of us      Both of us\n",
            "445   B-112     Both of us      Both of us\n",
            "478   B-112   I'm not sure    I'm not sure\n",
            "520   B-112     Both of us      Both of us\n",
            "554   B-112     Both of us      Both of us\n",
            "600   B-112     Both of us      Both of us\n",
            "682   B-112     Both of us      Both of us\n",
            "766   B-112             Me  The pedestrian\n",
            "844   B-112             Me  The pedestrian\n",
            "927   B-112             Me  The pedestrian\n",
            "975   B-112     Both of us      Both of us\n",
            "1017  B-112     Both of us      Both of us\n",
            "1106  B-112     Both of us      Both of us\n",
            "1233  B-112     Both of us      Both of us\n",
            "1279  B-112             Me  The pedestrian\n",
            "1363  B-112     Both of us      Both of us\n",
            "1466  B-112     Both of us      Both of us\n",
            "1583  B-112     Both of us      Both of us\n",
            "1696  B-112     Both of us      Both of us\n",
            "1742  B-112     Both of us      Both of us\n",
            "1783  B-112             Me  The pedestrian\n",
            "1818  B-112     Both of us      Both of us\n",
            "1854  B-112        The car         The car\n",
            "1896  B-112     Both of us      Both of us\n",
            "1936  B-112     Both of us      Both of us\n",
            "1974  B-112  Neither of us   Neither of us\n",
            "2011  B-112     Both of us      Both of us\n",
            "2049  B-112     Both of us      Both of us\n",
            "2103  B-112             Me  The pedestrian\n"
          ]
        }
      ]
    },
    {
      "cell_type": "code",
      "source": [
        "# Create frequency tables for the mapped categories\n",
        "driver_counts = driver_data['MappedCategory'].value_counts()\n",
        "pedestrian_counts = pedestrian_data['MappedCategory'].value_counts()\n",
        "print(driver_counts)\n",
        "print(pedestrian_counts)\n"
      ],
      "metadata": {
        "colab": {
          "base_uri": "https://localhost:8080/"
        },
        "id": "Vx7RTdXtzQfv",
        "outputId": "e76005c2-cbec-4d78-c81b-f7620695ed72"
      },
      "execution_count": null,
      "outputs": [
        {
          "output_type": "stream",
          "name": "stdout",
          "text": [
            "MappedCategory\n",
            "Both of us        19\n",
            "The car            9\n",
            "The pedestrian     9\n",
            "Name: count, dtype: int64\n",
            "MappedCategory\n",
            "Both of us        23\n",
            "The pedestrian     8\n",
            "The car            4\n",
            "I'm not sure       2\n",
            "Neither of us      1\n",
            "Name: count, dtype: int64\n"
          ]
        }
      ]
    },
    {
      "cell_type": "code",
      "source": [
        "# Combine the two tables into a single DataFrame\n",
        "contingency_table = pd.DataFrame({'Driver': driver_counts, 'Pedestrian': pedestrian_counts}).fillna(0)\n",
        "print(contingency_table)"
      ],
      "metadata": {
        "colab": {
          "base_uri": "https://localhost:8080/"
        },
        "id": "XjoOqQ9-0DUn",
        "outputId": "1692a28c-f67a-445f-a77d-ae5bc5ccc4d9"
      },
      "execution_count": null,
      "outputs": [
        {
          "output_type": "stream",
          "name": "stdout",
          "text": [
            "                Driver  Pedestrian\n",
            "MappedCategory                    \n",
            "Both of us        19.0          23\n",
            "I'm not sure       0.0           2\n",
            "Neither of us      0.0           1\n",
            "The car            9.0           4\n",
            "The pedestrian     9.0           8\n"
          ]
        }
      ]
    },
    {
      "cell_type": "code",
      "source": [
        "# Perform the chi-square test\n",
        "chi2, p, dof, expected = chi2_contingency(contingency_table)\n",
        "\n",
        "# Output the results\n",
        "print(\"Contingency Table:\\n\", contingency_table)\n",
        "print(\"\\nChi-square statistic:\", chi2)\n",
        "print(\"p-value:\", p)\n",
        "print(\"Degrees of freedom:\", dof)\n",
        "print(\"Expected frequencies:\\n\", expected)"
      ],
      "metadata": {
        "colab": {
          "base_uri": "https://localhost:8080/"
        },
        "id": "6hEByip80ILR",
        "outputId": "9523d827-55b5-4604-84b5-1e1d3bd39866"
      },
      "execution_count": null,
      "outputs": [
        {
          "output_type": "stream",
          "name": "stdout",
          "text": [
            "Contingency Table:\n",
            "                 Driver  Pedestrian\n",
            "MappedCategory                    \n",
            "Both of us        19.0          23\n",
            "I'm not sure       0.0           2\n",
            "Neither of us      0.0           1\n",
            "The car            9.0           4\n",
            "The pedestrian     9.0           8\n",
            "\n",
            "Chi-square statistic: 5.35047069489794\n",
            "p-value: 0.25318921694792323\n",
            "Degrees of freedom: 4\n",
            "Expected frequencies:\n",
            " [[20.72       21.28      ]\n",
            " [ 0.98666667  1.01333333]\n",
            " [ 0.49333333  0.50666667]\n",
            " [ 6.41333333  6.58666667]\n",
            " [ 8.38666667  8.61333333]]\n"
          ]
        }
      ]
    }
  ]
}